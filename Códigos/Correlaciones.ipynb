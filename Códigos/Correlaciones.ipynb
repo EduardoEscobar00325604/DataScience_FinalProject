{
 "cells": [
  {
   "cell_type": "code",
   "execution_count": 1,
   "id": "5786f71c-41fd-4d46-ae8f-deb20a4bcb0a",
   "metadata": {
    "tags": []
   },
   "outputs": [],
   "source": [
    "import pandas as pd"
   ]
  },
  {
   "cell_type": "code",
   "execution_count": 2,
   "id": "bd3dddfe-f570-4d4f-915f-f2c84c126108",
   "metadata": {},
   "outputs": [],
   "source": [
    "dfanual=pd.read_csv('dfnew.csv')"
   ]
  },
  {
   "cell_type": "code",
   "execution_count": 3,
   "id": "a758d56b-06bb-46c8-8457-91476b68b283",
   "metadata": {},
   "outputs": [],
   "source": [
    "df_detenidos=pd.read_csv(\"delitos.csv\")"
   ]
  },
  {
   "cell_type": "code",
   "execution_count": 4,
   "id": "00a0862f-fa23-4431-81bb-874164ad1e3b",
   "metadata": {
    "tags": []
   },
   "outputs": [],
   "source": [
    "df_anual1=dfanual.groupby('Servicio').size().reset_index(name='Conteo')\n",
    "#Agrupa y hace un conteo de reportes por cada servicio"
   ]
  },
  {
   "cell_type": "code",
   "execution_count": 5,
   "id": "727c66e3-d086-42f8-bacb-d247dced7a58",
   "metadata": {},
   "outputs": [],
   "source": [
    "df_detenidos1=df_detenidos.groupby('presunta_subinfraccion').size().reset_index(name='Conteo')\n",
    "#Agrupa y hace un conteo de los detenidos por presunta subinfracción"
   ]
  },
  {
   "cell_type": "code",
   "execution_count": 6,
   "id": "30d43c38-9171-4c9d-b0d8-a3b9b0953b3a",
   "metadata": {
    "tags": []
   },
   "outputs": [],
   "source": [
    "df_detenidos1.to_csv(\"df_detenidos1.csv\", index = False, encoding = \"utf-8\")\n",
    "#Guarda el dataframe df_detenidos1 como archivo csv"
   ]
  },
  {
   "cell_type": "code",
   "execution_count": 7,
   "id": "2376aca8-379e-4129-8d94-2bf211bf053f",
   "metadata": {
    "tags": []
   },
   "outputs": [],
   "source": [
    "df_detenidos_categorias=pd.read_excel(\"Copia de Excel base del interior 2.2.xlsx\")\n",
    "#Un archivos relacionando la presunta subinfracción con el tipo de servicio del Ecu 911"
   ]
  },
  {
   "cell_type": "code",
   "execution_count": 13,
   "id": "db620c3f-cf38-480e-9d02-67fe52ce19f2",
   "metadata": {
    "tags": []
   },
   "outputs": [],
   "source": [
    "df_detenidos_categorias.rename(columns={'Presunta sub infraccion': 'presunta_subinfraccion'}, inplace=True)\n",
    "#Se cambia el nombre de la columna Presunta sub infraccion del dataframe por presunta_subinfraccion"
   ]
  },
  {
   "cell_type": "code",
   "execution_count": 14,
   "id": "ca1dd9d1-c988-4c8e-a9e9-436046d7df03",
   "metadata": {
    "tags": []
   },
   "outputs": [],
   "source": [
    "df_detenidos_categorias.rename(columns=lambda x: x.strip(), inplace=True)\n",
    "#Se eliminan los espaciados que pueden haber antes y después de cada palabra para limpiar los datos"
   ]
  },
  {
   "cell_type": "code",
   "execution_count": 15,
   "id": "8afa3497-29ed-4bfd-aebf-32c18462e840",
   "metadata": {
    "tags": []
   },
   "outputs": [],
   "source": [
    "df_detenidos_categorias['Servicio'] = df_detenidos_categorias['Servicio'].str.strip()\n",
    "#Elimina los espaciados despues del nombre de la columna Servicio"
   ]
  },
  {
   "cell_type": "code",
   "execution_count": 16,
   "id": "8e5ec4d7-2a0d-4ff8-9865-54ccd3d2ca31",
   "metadata": {
    "tags": []
   },
   "outputs": [],
   "source": [
    "df_detenidos_categorias['Servicio'] = df_detenidos_categorias['Servicio'].replace('Tránsito Y Movilidad', 'Tránsito y Movilidad')\n",
    "#Remplaza los datos registrados como Tránsito Y Movilidad en la columna servicio por Tránsito y Movilidad"
   ]
  },
  {
   "cell_type": "code",
   "execution_count": 17,
   "id": "f7798ded-623f-460f-a5bc-cc3cc9220642",
   "metadata": {
    "tags": []
   },
   "outputs": [],
   "source": [
    "df_detenidos2=pd.merge(df_detenidos1, df_detenidos_categorias, on='presunta_subinfraccion')\n",
    "#Une las presuntas subinfracciones y su conteo asignando a que categoria de Servicio del Ecu-911 corresponden"
   ]
  },
  {
   "cell_type": "code",
   "execution_count": 74,
   "id": "20117941-0108-448b-9282-57045262a74f",
   "metadata": {
    "tags": []
   },
   "outputs": [],
   "source": [
    "df_agrupado_det = df_detenidos2.groupby('Servicio')['Conteo'].sum().reset_index()\n",
    "#Agrupa y hace un conteo de todos los detenidos por las categorias de servicios del Ecu 911 que corresponden"
   ]
  },
  {
   "cell_type": "code",
   "execution_count": 75,
   "id": "d4d2a633-9aa2-43c5-bb18-93f7257ed856",
   "metadata": {
    "tags": []
   },
   "outputs": [
    {
     "name": "stdout",
     "output_type": "stream",
     "text": [
      "                Servicio  Conteo_x  Conteo_y\n",
      "0      Gestión Sanitaria     65502       1.0\n",
      "1     Gestión de Riesgos      2515       2.0\n",
      "2  Gestión de Siniestros      8529       NaN\n",
      "3    Seguridad Ciudadana    594844   16257.0\n",
      "4       Servicio Militar      6808     223.0\n",
      "5  Servicios Municipales     36025       NaN\n",
      "6   Tránsito y Movilidad     61955    2138.0\n"
     ]
    }
   ],
   "source": [
    "df_combinado = pd.merge(df_anual1, df_agrupado_det, on='Servicio', how='outer')\n",
    "#Agrupa el conteo del numero de detenidos y de reportes por servicio del Ecu-911 en un dataframe\n",
    "print(df_combinado)"
   ]
  },
  {
   "cell_type": "code",
   "execution_count": 76,
   "id": "db460acb-826d-4f04-99ea-4733a8fcda52",
   "metadata": {
    "tags": []
   },
   "outputs": [
    {
     "name": "stdout",
     "output_type": "stream",
     "text": [
      "Correlación entre 'Conteo_x' y 'Conteo_y': 0.9925099078456575\n"
     ]
    }
   ],
   "source": [
    "correlation = df_combinado['Conteo_x'].corr(df_combinado['Conteo_y'])\n",
    "print(\"Correlación entre 'Conteo_x' y 'Conteo_y':\", correlation)\n",
    "#Calcula e imprime la correlación entre el número de detenidos y de reportes por servicio del Ecu-911\n"
   ]
  },
  {
   "cell_type": "code",
   "execution_count": 77,
   "id": "8e08b818-506e-48ef-af0a-3a290e5339d1",
   "metadata": {},
   "outputs": [],
   "source": [
    "df_anual2=dfanual.groupby('provincia').size().reset_index(name='Conteo')\n",
    "#Hace un conteo del número de reportes por provincias"
   ]
  },
  {
   "cell_type": "code",
   "execution_count": 78,
   "id": "0cbc2d0f-14e3-40fa-b8e6-03df730fd20c",
   "metadata": {},
   "outputs": [],
   "source": [
    "df_detenidos_prov=df_detenidos.groupby('nombre_provincia').size().reset_index(name='Conteo')\n",
    "#Hace un conteo del número de detenidos por provincias"
   ]
  },
  {
   "cell_type": "code",
   "execution_count": 79,
   "id": "77a68583-ebf6-4ff2-b97e-d18d7374d485",
   "metadata": {},
   "outputs": [],
   "source": [
    "df_detenidos_prov.rename(columns={'nombre_provincia': 'provincia'}, inplace=True)\n",
    "#Del dataframe de conteo de detenidos por provincia cambia el nombre de la Fila \"nombre_provincia\" por \"provincia\""
   ]
  },
  {
   "cell_type": "code",
   "execution_count": 80,
   "id": "bfac6472-ad95-4c83-8918-97bf67549015",
   "metadata": {},
   "outputs": [
    {
     "name": "stdout",
     "output_type": "stream",
     "text": [
      "                         provincia  Conteo_x  Conteo_y\n",
      "0                            AZUAY     37034       641\n",
      "1                          BOLIVAR      9144       246\n",
      "2                           CARCHI      9585       459\n",
      "3                            CAÑAR      7482       264\n",
      "4                       CHIMBORAZO     20859       582\n",
      "5                         COTOPAXI     16613       536\n",
      "6                           EL ORO     33646      1122\n",
      "7                       ESMERALDAS     15600       824\n",
      "8                        GALAPAGOS      2516        89\n",
      "9                           GUAYAS    193949      3655\n",
      "10                        IMBABURA     25958       623\n",
      "11                            LOJA     19843       628\n",
      "12                        LOS RIOS     35583      1055\n",
      "13                          MANABI     38892      1440\n",
      "14                 MORONA SANTIAGO      9452       350\n",
      "15                            NAPO      4458       264\n",
      "16                        ORELLANA      7680       288\n",
      "17                         PASTAZA      5915       294\n",
      "18                       PICHINCHA    193033      3042\n",
      "19                     SANTA ELENA     11986       343\n",
      "20  SANTO DOMINGO DE LOS TSACHILAS     26653       634\n",
      "21                       SUCUMBIOS     12993       398\n",
      "22                      TUNGURAHUA     33451       603\n",
      "23                ZAMORA CHINCHIPE      3672       241\n"
     ]
    }
   ],
   "source": [
    "df_combinado1 = pd.merge(df_anual2, df_detenidos_prov, on='provincia')\n",
    "#Combina en un dataframe el número de reportes y de crime\n",
    "print(df_combinado1)"
   ]
  },
  {
   "cell_type": "code",
   "execution_count": 81,
   "id": "600247f2-a4b2-405f-860d-bba7d45b60f6",
   "metadata": {},
   "outputs": [
    {
     "name": "stdout",
     "output_type": "stream",
     "text": [
      "Correlación entre 'Conteo_x' y 'Conteo_y': 0.9713157212397695\n"
     ]
    }
   ],
   "source": [
    "correlation1 = df_combinado1['Conteo_x'].corr(df_combinado1['Conteo_y'])\n",
    "print(\"Correlación entre 'Conteo_x' y 'Conteo_y':\", correlation1)\n"
   ]
  },
  {
   "cell_type": "code",
   "execution_count": null,
   "id": "29987cc4-bb28-41fc-a2a8-14cdbd138ad9",
   "metadata": {},
   "outputs": [],
   "source": []
  }
 ],
 "metadata": {
  "kernelspec": {
   "display_name": "Python 3 (ipykernel)",
   "language": "python",
   "name": "python3"
  },
  "language_info": {
   "codemirror_mode": {
    "name": "ipython",
    "version": 3
   },
   "file_extension": ".py",
   "mimetype": "text/x-python",
   "name": "python",
   "nbconvert_exporter": "python",
   "pygments_lexer": "ipython3",
   "version": "3.11.8"
  }
 },
 "nbformat": 4,
 "nbformat_minor": 5
}
