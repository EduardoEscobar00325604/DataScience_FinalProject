{
 "cells": [
  {
   "cell_type": "code",
   "execution_count": 1,
   "id": "5786f71c-41fd-4d46-ae8f-deb20a4bcb0a",
   "metadata": {
    "tags": []
   },
   "outputs": [],
   "source": [
    "import pandas as pd\n",
    "import numpy as np\n",
    "#Librerias necesarias pandas y numpy#"
   ]
  },
  {
   "cell_type": "code",
   "execution_count": 2,
   "id": "bcab7e8b-4263-4cc2-bc53-1e7ab049f5e4",
   "metadata": {
    "tags": []
   },
   "outputs": [],
   "source": [
    "#Importar bases de datos#\n",
    "\n",
    "dfenero = pd.read_csv(\"incidentes_enero_2024.csv\", sep = \";\")\n",
    "dffebrero = pd.read_csv(\"incidentes_febrero_2024.csv\", sep = \";\")\n",
    "dfmarzo = pd.read_csv(\"incidentes_marzo_2024.csv\", sep = \";\")"
   ]
  },
  {
   "cell_type": "code",
   "execution_count": 3,
   "id": "a87714ee-1dde-4c18-97c4-6f104f34581b",
   "metadata": {
    "tags": []
   },
   "outputs": [],
   "source": [
    "#Arreglo del formato de la base de datos#\n",
    "#Se cambia el nombre de las columnas de la base de datos de Enero ya que las mismas categorías tienen diferentes nombre en las bases de febrero y marzo\n",
    "\n",
    "dfenero = dfenero.rename(columns={\"IncidentTime_Fecha\": \"Fecha\", \"Provincia\": \"provincia\", \"NewIncidentTypeName\": \"Subtipo\", \"IncidentTypeName2\": \"Servicio\"})\n",
    "\n",
    "#Ordenar las columnas#\n",
    "nuevo_orden = [\"Fecha\", \"provincia\", \"Canton\", \"Cod_Parroquia\", \"Parroquia\", \"Servicio\", \"Subtipo\"]\n",
    "dfenero = dfenero[nuevo_orden]\n",
    "dffebrero = dffebrero[nuevo_orden]\n",
    "dfmarzo = dfmarzo[nuevo_orden]\n",
    "#Se ordena las columnas en un orden y se le da el mismo orden a los datos de los tres meses\n",
    "\n",
    "#Unir los dataframes#\n",
    "dfanual = pd.concat([dfenero, dffebrero, dfmarzo], ignore_index = True)\n",
    "#Se une en una sola base de datos la información de los reportes de enero, febrero y marzo"
   ]
  },
  {
   "cell_type": "code",
   "execution_count": 4,
   "id": "d09a75d9-2a5d-49c4-bb74-6f9e1f9be53d",
   "metadata": {
    "tags": []
   },
   "outputs": [
    {
     "data": {
      "text/html": [
       "<div>\n",
       "<style scoped>\n",
       "    .dataframe tbody tr th:only-of-type {\n",
       "        vertical-align: middle;\n",
       "    }\n",
       "\n",
       "    .dataframe tbody tr th {\n",
       "        vertical-align: top;\n",
       "    }\n",
       "\n",
       "    .dataframe thead th {\n",
       "        text-align: right;\n",
       "    }\n",
       "</style>\n",
       "<table border=\"1\" class=\"dataframe\">\n",
       "  <thead>\n",
       "    <tr style=\"text-align: right;\">\n",
       "      <th></th>\n",
       "      <th>Fecha</th>\n",
       "      <th>provincia</th>\n",
       "      <th>Canton</th>\n",
       "      <th>Cod_Parroquia</th>\n",
       "      <th>Parroquia</th>\n",
       "      <th>Servicio</th>\n",
       "      <th>Subtipo</th>\n",
       "    </tr>\n",
       "  </thead>\n",
       "  <tbody>\n",
       "    <tr>\n",
       "      <th>0</th>\n",
       "      <td>4/1/2024</td>\n",
       "      <td>EL ORO</td>\n",
       "      <td>MACHALA</td>\n",
       "      <td>70150.0</td>\n",
       "      <td>MACHALA, CABECERA CANTONAL Y CAPITAL PROVINCIAL</td>\n",
       "      <td>Seguridad Ciudadana</td>\n",
       "      <td>Patrullaje policial en el sector solicitado</td>\n",
       "    </tr>\n",
       "    <tr>\n",
       "      <th>1</th>\n",
       "      <td>28/1/2024</td>\n",
       "      <td>EL ORO</td>\n",
       "      <td>PIÑAS</td>\n",
       "      <td>71056.0</td>\n",
       "      <td>SARACAY</td>\n",
       "      <td>Seguridad Ciudadana</td>\n",
       "      <td>Patrullaje policial en el sector solicitado</td>\n",
       "    </tr>\n",
       "    <tr>\n",
       "      <th>2</th>\n",
       "      <td>5/1/2024</td>\n",
       "      <td>EL ORO</td>\n",
       "      <td>SANTA ROSA</td>\n",
       "      <td>71250.0</td>\n",
       "      <td>SANTA ROSA, CABECERA CANTONAL</td>\n",
       "      <td>Seguridad Ciudadana</td>\n",
       "      <td>Robo a unidades económicas</td>\n",
       "    </tr>\n",
       "    <tr>\n",
       "      <th>3</th>\n",
       "      <td>22/1/2024</td>\n",
       "      <td>EL ORO</td>\n",
       "      <td>ZARUMA</td>\n",
       "      <td>71350.0</td>\n",
       "      <td>ZARUMA, CABECERA CANTONAL</td>\n",
       "      <td>Seguridad Ciudadana</td>\n",
       "      <td>Patrullaje policial en el sector solicitado</td>\n",
       "    </tr>\n",
       "    <tr>\n",
       "      <th>4</th>\n",
       "      <td>13/1/2024</td>\n",
       "      <td>EL ORO</td>\n",
       "      <td>HUAQUILLAS</td>\n",
       "      <td>70750.0</td>\n",
       "      <td>HUAQUILLAS, CABECERA CANTONAL</td>\n",
       "      <td>Seguridad Ciudadana</td>\n",
       "      <td>Patrullaje policial en el sector solicitado</td>\n",
       "    </tr>\n",
       "    <tr>\n",
       "      <th>...</th>\n",
       "      <td>...</td>\n",
       "      <td>...</td>\n",
       "      <td>...</td>\n",
       "      <td>...</td>\n",
       "      <td>...</td>\n",
       "      <td>...</td>\n",
       "      <td>...</td>\n",
       "    </tr>\n",
       "    <tr>\n",
       "      <th>776252</th>\n",
       "      <td>31/3/2024</td>\n",
       "      <td>GUAYAS</td>\n",
       "      <td>GUAYAQUIL</td>\n",
       "      <td>90150.0</td>\n",
       "      <td>GUAYAQUIL, CABECERA CANTONAL Y CAPITAL PROVINCIAL</td>\n",
       "      <td>Seguridad Ciudadana</td>\n",
       "      <td>Violencia contra la mujer o miembros del núcle...</td>\n",
       "    </tr>\n",
       "    <tr>\n",
       "      <th>776253</th>\n",
       "      <td>31/3/2024</td>\n",
       "      <td>GUAYAS</td>\n",
       "      <td>GUAYAQUIL</td>\n",
       "      <td>90150.0</td>\n",
       "      <td>GUAYAQUIL, CABECERA CANTONAL Y CAPITAL PROVINCIAL</td>\n",
       "      <td>Gestión Sanitaria</td>\n",
       "      <td>Alcohol</td>\n",
       "    </tr>\n",
       "    <tr>\n",
       "      <th>776254</th>\n",
       "      <td>31/3/2024</td>\n",
       "      <td>GUAYAS</td>\n",
       "      <td>GUAYAQUIL</td>\n",
       "      <td>90150.0</td>\n",
       "      <td>GUAYAQUIL, CABECERA CANTONAL Y CAPITAL PROVINCIAL</td>\n",
       "      <td>Tránsito y Movilidad</td>\n",
       "      <td>Otros</td>\n",
       "    </tr>\n",
       "    <tr>\n",
       "      <th>776255</th>\n",
       "      <td>31/3/2024</td>\n",
       "      <td>GUAYAS</td>\n",
       "      <td>GUAYAQUIL</td>\n",
       "      <td>90150.0</td>\n",
       "      <td>GUAYAQUIL, CABECERA CANTONAL Y CAPITAL PROVINCIAL</td>\n",
       "      <td>Gestión de Siniestros</td>\n",
       "      <td>Asistencia</td>\n",
       "    </tr>\n",
       "    <tr>\n",
       "      <th>776256</th>\n",
       "      <td>31/3/2024</td>\n",
       "      <td>GUAYAS</td>\n",
       "      <td>GUAYAQUIL</td>\n",
       "      <td>90150.0</td>\n",
       "      <td>GUAYAQUIL, CABECERA CANTONAL Y CAPITAL PROVINCIAL</td>\n",
       "      <td>Seguridad Ciudadana</td>\n",
       "      <td>Patrullaje policial en el sector solicitado</td>\n",
       "    </tr>\n",
       "  </tbody>\n",
       "</table>\n",
       "<p>776257 rows × 7 columns</p>\n",
       "</div>"
      ],
      "text/plain": [
       "            Fecha provincia      Canton  Cod_Parroquia  \\\n",
       "0        4/1/2024    EL ORO     MACHALA        70150.0   \n",
       "1       28/1/2024    EL ORO       PIÑAS        71056.0   \n",
       "2        5/1/2024    EL ORO  SANTA ROSA        71250.0   \n",
       "3       22/1/2024    EL ORO      ZARUMA        71350.0   \n",
       "4       13/1/2024    EL ORO  HUAQUILLAS        70750.0   \n",
       "...           ...       ...         ...            ...   \n",
       "776252  31/3/2024    GUAYAS   GUAYAQUIL        90150.0   \n",
       "776253  31/3/2024    GUAYAS   GUAYAQUIL        90150.0   \n",
       "776254  31/3/2024    GUAYAS   GUAYAQUIL        90150.0   \n",
       "776255  31/3/2024    GUAYAS   GUAYAQUIL        90150.0   \n",
       "776256  31/3/2024    GUAYAS   GUAYAQUIL        90150.0   \n",
       "\n",
       "                                                Parroquia  \\\n",
       "0         MACHALA, CABECERA CANTONAL Y CAPITAL PROVINCIAL   \n",
       "1                                                 SARACAY   \n",
       "2                           SANTA ROSA, CABECERA CANTONAL   \n",
       "3                               ZARUMA, CABECERA CANTONAL   \n",
       "4                           HUAQUILLAS, CABECERA CANTONAL   \n",
       "...                                                   ...   \n",
       "776252  GUAYAQUIL, CABECERA CANTONAL Y CAPITAL PROVINCIAL   \n",
       "776253  GUAYAQUIL, CABECERA CANTONAL Y CAPITAL PROVINCIAL   \n",
       "776254  GUAYAQUIL, CABECERA CANTONAL Y CAPITAL PROVINCIAL   \n",
       "776255  GUAYAQUIL, CABECERA CANTONAL Y CAPITAL PROVINCIAL   \n",
       "776256  GUAYAQUIL, CABECERA CANTONAL Y CAPITAL PROVINCIAL   \n",
       "\n",
       "                     Servicio  \\\n",
       "0         Seguridad Ciudadana   \n",
       "1         Seguridad Ciudadana   \n",
       "2         Seguridad Ciudadana   \n",
       "3         Seguridad Ciudadana   \n",
       "4         Seguridad Ciudadana   \n",
       "...                       ...   \n",
       "776252    Seguridad Ciudadana   \n",
       "776253      Gestión Sanitaria   \n",
       "776254   Tránsito y Movilidad   \n",
       "776255  Gestión de Siniestros   \n",
       "776256    Seguridad Ciudadana   \n",
       "\n",
       "                                                  Subtipo  \n",
       "0             Patrullaje policial en el sector solicitado  \n",
       "1             Patrullaje policial en el sector solicitado  \n",
       "2                              Robo a unidades económicas  \n",
       "3             Patrullaje policial en el sector solicitado  \n",
       "4             Patrullaje policial en el sector solicitado  \n",
       "...                                                   ...  \n",
       "776252  Violencia contra la mujer o miembros del núcle...  \n",
       "776253                                            Alcohol  \n",
       "776254                                              Otros  \n",
       "776255                                         Asistencia  \n",
       "776256        Patrullaje policial en el sector solicitado  \n",
       "\n",
       "[776257 rows x 7 columns]"
      ]
     },
     "execution_count": 4,
     "metadata": {},
     "output_type": "execute_result"
    }
   ],
   "source": [
    "dfanual"
   ]
  },
  {
   "cell_type": "code",
   "execution_count": 5,
   "id": "845e6144-feb5-40dd-b807-1cd262a9c5a2",
   "metadata": {
    "tags": []
   },
   "outputs": [
    {
     "data": {
      "text/html": [
       "<div>\n",
       "<style scoped>\n",
       "    .dataframe tbody tr th:only-of-type {\n",
       "        vertical-align: middle;\n",
       "    }\n",
       "\n",
       "    .dataframe tbody tr th {\n",
       "        vertical-align: top;\n",
       "    }\n",
       "\n",
       "    .dataframe thead th {\n",
       "        text-align: right;\n",
       "    }\n",
       "</style>\n",
       "<table border=\"1\" class=\"dataframe\">\n",
       "  <thead>\n",
       "    <tr style=\"text-align: right;\">\n",
       "      <th></th>\n",
       "      <th>Fecha</th>\n",
       "      <th>provincia</th>\n",
       "      <th>Canton</th>\n",
       "      <th>Parroquia</th>\n",
       "      <th>Servicio</th>\n",
       "      <th>Subtipo</th>\n",
       "    </tr>\n",
       "  </thead>\n",
       "  <tbody>\n",
       "    <tr>\n",
       "      <th>count</th>\n",
       "      <td>776257</td>\n",
       "      <td>776183</td>\n",
       "      <td>776183</td>\n",
       "      <td>776183</td>\n",
       "      <td>776253</td>\n",
       "      <td>776250</td>\n",
       "    </tr>\n",
       "    <tr>\n",
       "      <th>unique</th>\n",
       "      <td>91</td>\n",
       "      <td>25</td>\n",
       "      <td>221</td>\n",
       "      <td>958</td>\n",
       "      <td>7</td>\n",
       "      <td>574</td>\n",
       "    </tr>\n",
       "    <tr>\n",
       "      <th>top</th>\n",
       "      <td>11/2/2024</td>\n",
       "      <td>GUAYAS</td>\n",
       "      <td>QUITO</td>\n",
       "      <td>GUAYAQUIL, CABECERA CANTONAL Y CAPITAL PROVINCIAL</td>\n",
       "      <td>Seguridad Ciudadana</td>\n",
       "      <td>Patrullaje policial en el sector solicitado</td>\n",
       "    </tr>\n",
       "    <tr>\n",
       "      <th>freq</th>\n",
       "      <td>12789</td>\n",
       "      <td>193951</td>\n",
       "      <td>172022</td>\n",
       "      <td>138952</td>\n",
       "      <td>594863</td>\n",
       "      <td>222086</td>\n",
       "    </tr>\n",
       "  </tbody>\n",
       "</table>\n",
       "</div>"
      ],
      "text/plain": [
       "            Fecha provincia  Canton  \\\n",
       "count      776257    776183  776183   \n",
       "unique         91        25     221   \n",
       "top     11/2/2024    GUAYAS   QUITO   \n",
       "freq        12789    193951  172022   \n",
       "\n",
       "                                                Parroquia  \\\n",
       "count                                              776183   \n",
       "unique                                                958   \n",
       "top     GUAYAQUIL, CABECERA CANTONAL Y CAPITAL PROVINCIAL   \n",
       "freq                                               138952   \n",
       "\n",
       "                   Servicio                                      Subtipo  \n",
       "count                776253                                       776250  \n",
       "unique                    7                                          574  \n",
       "top     Seguridad Ciudadana  Patrullaje policial en el sector solicitado  \n",
       "freq                 594863                                       222086  "
      ]
     },
     "execution_count": 5,
     "metadata": {},
     "output_type": "execute_result"
    }
   ],
   "source": [
    "#Un resumen de las estadísticas descriptivas de la base de datos anual, conteo de datos, categorias por columna y categoría más registrada\n",
    "summary_stats = dfanual.describe(include = \"object\")\n",
    "summary_stats"
   ]
  },
  {
   "cell_type": "code",
   "execution_count": 6,
   "id": "e873b563-a041-4310-9e11-1d5f981738c3",
   "metadata": {
    "tags": []
   },
   "outputs": [
    {
     "data": {
      "text/plain": [
       "'Se observa 25 provincias debido a las zonas no delimitadas'"
      ]
     },
     "execution_count": 6,
     "metadata": {},
     "output_type": "execute_result"
    }
   ],
   "source": [
    "\"Se observa 25 provincias debido a las zonas no delimitadas\""
   ]
  },
  {
   "cell_type": "code",
   "execution_count": 7,
   "id": "b44e2338-ef4a-4bf1-a5d8-a0ca8381b58b",
   "metadata": {
    "tags": []
   },
   "outputs": [
    {
     "data": {
      "text/plain": [
       "Fecha             0\n",
       "provincia        74\n",
       "Canton           74\n",
       "Cod_Parroquia    74\n",
       "Parroquia        74\n",
       "Servicio          4\n",
       "Subtipo           7\n",
       "dtype: int64"
      ]
     },
     "execution_count": 7,
     "metadata": {},
     "output_type": "execute_result"
    }
   ],
   "source": [
    "#Búsqueda de valores nulos en cada columna#\n",
    "total_nule = dfanual.isnull().sum()\n",
    "total_nule"
   ]
  },
  {
   "cell_type": "code",
   "execution_count": 8,
   "id": "da526f5c-513b-4813-bdaa-7c23c2944e4d",
   "metadata": {
    "tags": []
   },
   "outputs": [],
   "source": [
    "#Debido a la existencia de valores nulos en las distintas columnas, se decidió borrar estos valores del dataframe#\n",
    "dfnew = dfanual.dropna()"
   ]
  },
  {
   "cell_type": "code",
   "execution_count": 9,
   "id": "1ab5df65-8215-481a-b3d7-722b66b2e98c",
   "metadata": {
    "tags": []
   },
   "outputs": [
    {
     "data": {
      "text/html": [
       "<div>\n",
       "<style scoped>\n",
       "    .dataframe tbody tr th:only-of-type {\n",
       "        vertical-align: middle;\n",
       "    }\n",
       "\n",
       "    .dataframe tbody tr th {\n",
       "        vertical-align: top;\n",
       "    }\n",
       "\n",
       "    .dataframe thead th {\n",
       "        text-align: right;\n",
       "    }\n",
       "</style>\n",
       "<table border=\"1\" class=\"dataframe\">\n",
       "  <thead>\n",
       "    <tr style=\"text-align: right;\">\n",
       "      <th></th>\n",
       "      <th>Fecha</th>\n",
       "      <th>provincia</th>\n",
       "      <th>Canton</th>\n",
       "      <th>Parroquia</th>\n",
       "      <th>Servicio</th>\n",
       "      <th>Subtipo</th>\n",
       "    </tr>\n",
       "  </thead>\n",
       "  <tbody>\n",
       "    <tr>\n",
       "      <th>count</th>\n",
       "      <td>776178</td>\n",
       "      <td>776178</td>\n",
       "      <td>776178</td>\n",
       "      <td>776178</td>\n",
       "      <td>776178</td>\n",
       "      <td>776178</td>\n",
       "    </tr>\n",
       "    <tr>\n",
       "      <th>unique</th>\n",
       "      <td>91</td>\n",
       "      <td>25</td>\n",
       "      <td>221</td>\n",
       "      <td>958</td>\n",
       "      <td>7</td>\n",
       "      <td>574</td>\n",
       "    </tr>\n",
       "    <tr>\n",
       "      <th>top</th>\n",
       "      <td>11/2/2024</td>\n",
       "      <td>GUAYAS</td>\n",
       "      <td>QUITO</td>\n",
       "      <td>GUAYAQUIL, CABECERA CANTONAL Y CAPITAL PROVINCIAL</td>\n",
       "      <td>Seguridad Ciudadana</td>\n",
       "      <td>Patrullaje policial en el sector solicitado</td>\n",
       "    </tr>\n",
       "    <tr>\n",
       "      <th>freq</th>\n",
       "      <td>12788</td>\n",
       "      <td>193949</td>\n",
       "      <td>172020</td>\n",
       "      <td>138951</td>\n",
       "      <td>594844</td>\n",
       "      <td>222082</td>\n",
       "    </tr>\n",
       "  </tbody>\n",
       "</table>\n",
       "</div>"
      ],
      "text/plain": [
       "            Fecha provincia  Canton  \\\n",
       "count      776178    776178  776178   \n",
       "unique         91        25     221   \n",
       "top     11/2/2024    GUAYAS   QUITO   \n",
       "freq        12788    193949  172020   \n",
       "\n",
       "                                                Parroquia  \\\n",
       "count                                              776178   \n",
       "unique                                                958   \n",
       "top     GUAYAQUIL, CABECERA CANTONAL Y CAPITAL PROVINCIAL   \n",
       "freq                                               138951   \n",
       "\n",
       "                   Servicio                                      Subtipo  \n",
       "count                776178                                       776178  \n",
       "unique                    7                                          574  \n",
       "top     Seguridad Ciudadana  Patrullaje policial en el sector solicitado  \n",
       "freq                 594844                                       222082  "
      ]
     },
     "execution_count": 9,
     "metadata": {},
     "output_type": "execute_result"
    }
   ],
   "source": [
    "#Estadística sin valores nulos#\n",
    "summary_stats = dfnew.describe(include = \"object\")\n",
    "summary_stats"
   ]
  },
  {
   "cell_type": "code",
   "execution_count": 10,
   "id": "a1b47637-4e61-49b0-8090-1d6f8c0eb7e1",
   "metadata": {
    "tags": []
   },
   "outputs": [],
   "source": [
    "#Convertir el dataframe limpio a un archivo .csv#\n",
    "dfnew.to_csv(\"dfnew.csv\", index = False)"
   ]
  },
  {
   "cell_type": "code",
   "execution_count": null,
   "id": "a758d56b-06bb-46c8-8457-91476b68b283",
   "metadata": {},
   "outputs": [],
   "source": []
  }
 ],
 "metadata": {
  "kernelspec": {
   "display_name": "Python 3 (ipykernel)",
   "language": "python",
   "name": "python3"
  },
  "language_info": {
   "codemirror_mode": {
    "name": "ipython",
    "version": 3
   },
   "file_extension": ".py",
   "mimetype": "text/x-python",
   "name": "python",
   "nbconvert_exporter": "python",
   "pygments_lexer": "ipython3",
   "version": "3.11.8"
  }
 },
 "nbformat": 4,
 "nbformat_minor": 5
}
