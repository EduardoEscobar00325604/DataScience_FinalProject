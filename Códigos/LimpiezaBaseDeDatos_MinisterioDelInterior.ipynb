{
 "cells": [
  {
   "cell_type": "code",
   "execution_count": 3,
   "id": "927a9788-984e-45e1-a505-9242c2ef3936",
   "metadata": {},
   "outputs": [
    {
     "name": "stdout",
     "output_type": "stream",
     "text": [
      "Collecting openpyxl\n",
      "  Downloading openpyxl-3.1.2-py2.py3-none-any.whl.metadata (2.5 kB)\n",
      "Collecting et-xmlfile (from openpyxl)\n",
      "  Downloading et_xmlfile-1.1.0-py3-none-any.whl.metadata (1.8 kB)\n",
      "Downloading openpyxl-3.1.2-py2.py3-none-any.whl (249 kB)\n",
      "\u001b[2K   \u001b[90m━━━━━━━━━━━━━━━━━━━━━━━━━━━━━━━━━━━━━━━━\u001b[0m \u001b[32m250.0/250.0 kB\u001b[0m \u001b[31m2.2 MB/s\u001b[0m eta \u001b[36m0:00:00\u001b[0m00:01\u001b[0m0:01\u001b[0m\n",
      "\u001b[?25hDownloading et_xmlfile-1.1.0-py3-none-any.whl (4.7 kB)\n",
      "Installing collected packages: et-xmlfile, openpyxl\n",
      "Successfully installed et-xmlfile-1.1.0 openpyxl-3.1.2\n",
      "Note: you may need to restart the kernel to use updated packages.\n"
     ]
    }
   ],
   "source": [
    "pip install openpyxl"
   ]
  },
  {
   "cell_type": "code",
   "execution_count": 4,
   "id": "445ee199-0d0a-41a6-89a3-8165494b684c",
   "metadata": {},
   "outputs": [],
   "source": [
    "import pandas as pd\n",
    "import numpy as np"
   ]
  },
  {
   "cell_type": "markdown",
   "id": "5445e38d",
   "metadata": {},
   "source": [
    "pandas: Es una biblioteca de Python que proporciona estructuras de datos y herramientas de análisis de datos de alto rendimiento y fáciles de usar. Pandas suele utilizarse para trabajar con datos tabulares, como hojas de cálculo y bases de datos SQL. El alias pd es comúnmente utilizado para abreviar el nombre de pandas.\n",
    "\n",
    "numpy: Es una biblioteca fundamental para la computación científica en Python. Proporciona una estructura de datos de matriz multidimensional (ndarray), junto con funciones para operaciones rápidas en matrices numéricas. El alias np es comúnmente utilizado para abreviar el nombre de numpy.\n"
   ]
  },
  {
   "cell_type": "code",
   "execution_count": 5,
   "id": "8fc4e7b4-cbce-4166-bb27-0affbd560a35",
   "metadata": {},
   "outputs": [],
   "source": [
    "delitos = pd.read_excel(\"Base ministerio del interior v2.xlsx\")"
   ]
  },
  {
   "cell_type": "markdown",
   "id": "48058e74",
   "metadata": {},
   "source": [
    "Este código utiliza la función read_excel de la biblioteca pandas para leer datos de un archivo Excel y cargarlos en un DataFrame de pandas.\n",
    "\n",
    "El argumento \"Base ministerio del interior v2.xlsx\" especifica el nombre del archivo Excel del cual se van a leer los datos. La función read_excel intentará cargar los datos del archivo especificado en un DataFrame.\n"
   ]
  },
  {
   "cell_type": "code",
   "execution_count": 6,
   "id": "1bb5f662-b353-4d10-b895-ed1290bd2732",
   "metadata": {},
   "outputs": [
    {
     "data": {
      "text/html": [
       "<div>\n",
       "<style scoped>\n",
       "    .dataframe tbody tr th:only-of-type {\n",
       "        vertical-align: middle;\n",
       "    }\n",
       "\n",
       "    .dataframe tbody tr th {\n",
       "        vertical-align: top;\n",
       "    }\n",
       "\n",
       "    .dataframe thead th {\n",
       "        text-align: right;\n",
       "    }\n",
       "</style>\n",
       "<table border=\"1\" class=\"dataframe\">\n",
       "  <thead>\n",
       "    <tr style=\"text-align: right;\">\n",
       "      <th></th>\n",
       "      <th>tipo</th>\n",
       "      <th>nombre_provincia</th>\n",
       "      <th>nombre_canton</th>\n",
       "      <th>nombre_parroquia</th>\n",
       "      <th>presunta_infraccion</th>\n",
       "      <th>presunta_subinfraccion</th>\n",
       "    </tr>\n",
       "  </thead>\n",
       "  <tbody>\n",
       "    <tr>\n",
       "      <th>count</th>\n",
       "      <td>18665</td>\n",
       "      <td>18665</td>\n",
       "      <td>18665</td>\n",
       "      <td>18665</td>\n",
       "      <td>18665</td>\n",
       "      <td>18665</td>\n",
       "    </tr>\n",
       "    <tr>\n",
       "      <th>unique</th>\n",
       "      <td>2</td>\n",
       "      <td>26</td>\n",
       "      <td>218</td>\n",
       "      <td>679</td>\n",
       "      <td>45</td>\n",
       "      <td>149</td>\n",
       "    </tr>\n",
       "    <tr>\n",
       "      <th>top</th>\n",
       "      <td>APREHENDIDO</td>\n",
       "      <td>GUAYAS</td>\n",
       "      <td>GUAYAQUIL</td>\n",
       "      <td>GUAYAQUIL</td>\n",
       "      <td>DELITOS CONTRA EL DERECHO A LA PROPIEDAD</td>\n",
       "      <td>TRÁFICO ILÍCITO DE SUSTANCIAS CATALOGADAS SUJE...</td>\n",
       "    </tr>\n",
       "    <tr>\n",
       "      <th>freq</th>\n",
       "      <td>14665</td>\n",
       "      <td>3655</td>\n",
       "      <td>2563</td>\n",
       "      <td>2522</td>\n",
       "      <td>3146</td>\n",
       "      <td>2854</td>\n",
       "    </tr>\n",
       "  </tbody>\n",
       "</table>\n",
       "</div>"
      ],
      "text/plain": [
       "               tipo nombre_provincia nombre_canton nombre_parroquia  \\\n",
       "count         18665            18665         18665            18665   \n",
       "unique            2               26           218              679   \n",
       "top     APREHENDIDO           GUAYAS     GUAYAQUIL        GUAYAQUIL   \n",
       "freq          14665             3655          2563             2522   \n",
       "\n",
       "                             presunta_infraccion  \\\n",
       "count                                      18665   \n",
       "unique                                        45   \n",
       "top     DELITOS CONTRA EL DERECHO A LA PROPIEDAD   \n",
       "freq                                        3146   \n",
       "\n",
       "                                   presunta_subinfraccion  \n",
       "count                                               18665  \n",
       "unique                                                149  \n",
       "top     TRÁFICO ILÍCITO DE SUSTANCIAS CATALOGADAS SUJE...  \n",
       "freq                                                 2854  "
      ]
     },
     "execution_count": 6,
     "metadata": {},
     "output_type": "execute_result"
    }
   ],
   "source": [
    "summary_stats = delitos.describe(include = \"object\")\n",
    "summary_stats"
   ]
  },
  {
   "cell_type": "markdown",
   "id": "6daacb0f",
   "metadata": {},
   "source": [
    "Este fragmento de código utiliza el método describe() de un DataFrame de pandas para calcular estadísticas descriptivas para columnas que contienen datos de tipo objeto (como cadenas de texto) en el DataFrame delitos.\n",
    "\n",
    "El parámetro include=\"object\" indica que solo se deben calcular estadísticas para columnas de tipo objeto.\n",
    "\n",
    "El resultado será un nuevo DataFrame llamado summary_stats que contendrá las estadísticas descriptivas, como el recuento de valores no nulos, el número de valores únicos, el valor más frecuente (top), la frecuencia del valor más frecuente (freq) y la cantidad de datos únicos (unique).\n"
   ]
  },
  {
   "cell_type": "code",
   "execution_count": 7,
   "id": "e27beda1-2093-4e4e-91c9-1e9737bc22db",
   "metadata": {},
   "outputs": [
    {
     "data": {
      "text/plain": [
       "array(['BOLIVAR', 'NAPO', 'PICHINCHA', 'AZUAY', 'SANTA ELENA',\n",
       "       'SUCUMBIOS', 'GUAYAS', 'SANTO DOMINGO DE LOS TSACHILAS',\n",
       "       'ORELLANA', 'LOJA', 'MORONA SANTIAGO', 'EL ORO', 'LOS RIOS',\n",
       "       'PASTAZA', 'COTOPAXI', 'ZAMORA CHINCHIPE', 'TUNGURAHUA',\n",
       "       'IMBABURA', 'CARCHI', 'CHIMBORAZO', 'MANABI', 'CAÑAR', 'GALAPAGOS',\n",
       "       'ESMERALDAS', 'MAR TERRITORIAL', 'ZONA NO DELIMITADA'],\n",
       "      dtype=object)"
      ]
     },
     "execution_count": 7,
     "metadata": {},
     "output_type": "execute_result"
    }
   ],
   "source": [
    "valores_unicos = delitos[\"nombre_provincia\"].unique()\n",
    "valores_unicos"
   ]
  },
  {
   "cell_type": "markdown",
   "id": "e0a7e529",
   "metadata": {},
   "source": [
    "Este fragmento de código utiliza la función unique() de pandas para obtener los valores únicos de la columna \"nombre_provincia\" del DataFrame delitos.\n",
    "\n",
    "La función unique() devuelve un array que contiene todos los valores únicos presentes en la columna especificada. En este caso, valores_unicos contendrá todos los nombres de provincia únicos presentes en la columna \"nombre_provincia\" del DataFrame delitos\n"
   ]
  },
  {
   "cell_type": "code",
   "execution_count": 8,
   "id": "a5b94ff7-446d-4b98-811a-5893c6fd7fa8",
   "metadata": {},
   "outputs": [],
   "source": [
    "#Para facilidad de análisis se eliminan las categorias Mar Territorial y Zona no Delimitada\n",
    "\n",
    "valores_a_eliminar = [\"MAR TERRITORIAL\", \"ZONA NO DELIMITADA\"]\n",
    "columna_a_verificar = \"nombre_provincia\"\n",
    "\n",
    "delitos_new = delitos[~delitos[columna_a_verificar].isin(valores_a_eliminar)]\n"
   ]
  },
  {
   "cell_type": "markdown",
   "id": "26242cc2",
   "metadata": {},
   "source": [
    "Este fragmento de código elimina las filas del DataFrame delitos donde el valor en la columna especificada (\"nombre_provincia\") coincide con alguno de los valores contenidos en la lista valores_a_eliminar (\"MAR TERRITORIAL\" y \"ZONA NO DELIMITADA\").\n",
    "\n",
    "Este enfoque es útil para eliminar filas que contienen valores específicos en una columna particular.\n"
   ]
  },
  {
   "cell_type": "code",
   "execution_count": 9,
   "id": "c1dde70d-7e6d-4fc6-bf33-a3fec4a32507",
   "metadata": {},
   "outputs": [
    {
     "data": {
      "text/html": [
       "<div>\n",
       "<style scoped>\n",
       "    .dataframe tbody tr th:only-of-type {\n",
       "        vertical-align: middle;\n",
       "    }\n",
       "\n",
       "    .dataframe tbody tr th {\n",
       "        vertical-align: top;\n",
       "    }\n",
       "\n",
       "    .dataframe thead th {\n",
       "        text-align: right;\n",
       "    }\n",
       "</style>\n",
       "<table border=\"1\" class=\"dataframe\">\n",
       "  <thead>\n",
       "    <tr style=\"text-align: right;\">\n",
       "      <th></th>\n",
       "      <th>tipo</th>\n",
       "      <th>nombre_provincia</th>\n",
       "      <th>nombre_canton</th>\n",
       "      <th>nombre_parroquia</th>\n",
       "      <th>presunta_infraccion</th>\n",
       "      <th>presunta_subinfraccion</th>\n",
       "    </tr>\n",
       "  </thead>\n",
       "  <tbody>\n",
       "    <tr>\n",
       "      <th>count</th>\n",
       "      <td>18621</td>\n",
       "      <td>18621</td>\n",
       "      <td>18621</td>\n",
       "      <td>18621</td>\n",
       "      <td>18621</td>\n",
       "      <td>18621</td>\n",
       "    </tr>\n",
       "    <tr>\n",
       "      <th>unique</th>\n",
       "      <td>2</td>\n",
       "      <td>24</td>\n",
       "      <td>216</td>\n",
       "      <td>677</td>\n",
       "      <td>45</td>\n",
       "      <td>149</td>\n",
       "    </tr>\n",
       "    <tr>\n",
       "      <th>top</th>\n",
       "      <td>APREHENDIDO</td>\n",
       "      <td>GUAYAS</td>\n",
       "      <td>GUAYAQUIL</td>\n",
       "      <td>GUAYAQUIL</td>\n",
       "      <td>DELITOS CONTRA EL DERECHO A LA PROPIEDAD</td>\n",
       "      <td>TRÁFICO ILÍCITO DE SUSTANCIAS CATALOGADAS SUJE...</td>\n",
       "    </tr>\n",
       "    <tr>\n",
       "      <th>freq</th>\n",
       "      <td>14627</td>\n",
       "      <td>3655</td>\n",
       "      <td>2563</td>\n",
       "      <td>2522</td>\n",
       "      <td>3145</td>\n",
       "      <td>2827</td>\n",
       "    </tr>\n",
       "  </tbody>\n",
       "</table>\n",
       "</div>"
      ],
      "text/plain": [
       "               tipo nombre_provincia nombre_canton nombre_parroquia  \\\n",
       "count         18621            18621         18621            18621   \n",
       "unique            2               24           216              677   \n",
       "top     APREHENDIDO           GUAYAS     GUAYAQUIL        GUAYAQUIL   \n",
       "freq          14627             3655          2563             2522   \n",
       "\n",
       "                             presunta_infraccion  \\\n",
       "count                                      18621   \n",
       "unique                                        45   \n",
       "top     DELITOS CONTRA EL DERECHO A LA PROPIEDAD   \n",
       "freq                                        3145   \n",
       "\n",
       "                                   presunta_subinfraccion  \n",
       "count                                               18621  \n",
       "unique                                                149  \n",
       "top     TRÁFICO ILÍCITO DE SUSTANCIAS CATALOGADAS SUJE...  \n",
       "freq                                                 2827  "
      ]
     },
     "execution_count": 9,
     "metadata": {},
     "output_type": "execute_result"
    }
   ],
   "source": [
    "summary_stats = delitos_new.describe(include = \"object\")\n",
    "summary_stats"
   ]
  },
  {
   "cell_type": "markdown",
   "id": "b59cf841",
   "metadata": {},
   "source": [
    "Este código calcula estadísticas descriptivas para las columnas de tipo objeto (como cadenas de texto) en el DataFrame delitos_new utilizando el método describe() con el parámetro include=\"object\".\n",
    "\n",
    "Esto significa que summary_stats contendrá un resumen estadístico de las columnas de tipo objeto en el DataFrame delitos_new, incluyendo el recuento de valores no nulos, el número de valores únicos, el valor más frecuente (top), la frecuencia del valor más frecuente (freq) y la cantidad de datos únicos (unique).\n"
   ]
  },
  {
   "cell_type": "code",
   "execution_count": 10,
   "id": "75cf6970-4818-4462-9bc5-310b873cf797",
   "metadata": {},
   "outputs": [],
   "source": [
    "#Revisar la columna de cantones:\n",
    "\n",
    "columna = \"nombre_canton\"\n",
    "valores_unicos = delitos_new[columna].unique()\n",
    "cantones = pd.DataFrame(valores_unicos, columns = [columna])\n",
    "cantones = cantones.sort_values(by=\"nombre_canton\")"
   ]
  },
  {
   "cell_type": "markdown",
   "id": "bde28498",
   "metadata": {},
   "source": [
    "Utiliza el método unique() para obtener los valores únicos de la columna seleccionada.\n",
    "\n",
    "Crea un nuevo DataFrame llamado cantones con una sola columna, que contiene los valores únicos de \"nombre_canton\".\n",
    "\n",
    "Ordena el DataFrame cantones por los valores de la columna \"nombre_canton\".\n"
   ]
  },
  {
   "cell_type": "code",
   "execution_count": 11,
   "id": "a5b565e7-d174-44a7-a352-d47954878127",
   "metadata": {},
   "outputs": [],
   "source": [
    "#Traer la columna de cantones de la base de datos del ECU911:\n",
    "\n",
    "dfnew = pd.read_csv(\"dfnew.csv\")\n",
    "\n",
    "columna = \"Canton\"\n",
    "valores_unicos = dfnew[columna].unique()\n",
    "canton_new = pd.DataFrame(valores_unicos, columns = [columna])\n",
    "canton_new = canton_new.sort_values(by=\"Canton\")"
   ]
  },
  {
   "cell_type": "markdown",
   "id": "926ec29f",
   "metadata": {},
   "source": [
    "Se selecciona la columna \"Canton\" del DataFrame dfnew, y se utilizan los valores únicos de esta columna para crear un nuevo DataFrame llamado canton_new.\n",
    "\n",
    "Finalmente, el DataFrame canton_new se ordena alfabéticamente por los valores de la columna \"Canton\".\n"
   ]
  },
  {
   "cell_type": "code",
   "execution_count": 12,
   "id": "1c7edd97-8dde-4c2b-81a2-a01275488278",
   "metadata": {},
   "outputs": [],
   "source": [
    "#Unir los dos df de los cantones:\n",
    "comparacion_cantones = pd.merge(cantones, canton_new, left_on='nombre_canton', right_on='Canton', how='outer')\n",
    "comparacion_cantones.to_csv(\"comparacion_cantones.csv\", index = False, encoding = \"utf-8\")"
   ]
  },
  {
   "cell_type": "markdown",
   "id": "8ef42879",
   "metadata": {},
   "source": [
    "Este fragmento de código une dos DataFrames, cantones y canton_new, basándose en la columna \"nombre_canton\" de cantones y en la columna \"Canton\" de canton_new.\n",
    "\n",
    "El parámetro how='outer' indica que se realizará una unión externa, lo que significa que se conservarán todas las filas de ambos DataFrames, y se llenarán los valores faltantes con NaN en caso de que no haya una coincidencia en la columna de unión.\n",
    "\n",
    "Después de unir los DataFrames, el resultado se guarda en un archivo CSV llamado \"comparacion_cantones.csv\" utilizando el método to_csv(), con los parámetros index=False para no incluir el índice y encoding=\"utf-8\" para asegurarse de que el archivo esté codificado en UTF-8.\n",
    "\n",
    "Este archivo .csv permite comparar los cantones de ambas bases de datos e identificar cuales coinciden. "
   ]
  },
  {
   "cell_type": "code",
   "execution_count": 13,
   "id": "80baf898-52ed-47af-9268-5c08a8ea8ba2",
   "metadata": {},
   "outputs": [],
   "source": [
    "#Revisar la columna de parroquias\n",
    "\n",
    "columna = \"nombre_parroquia\"\n",
    "valores_unicos = delitos_new[columna].unique()\n",
    "parroquias = pd.DataFrame(valores_unicos, columns = [columna])\n",
    "parroquias = parroquias.sort_values(by=\"nombre_parroquia\")"
   ]
  },
  {
   "cell_type": "markdown",
   "id": "dc8e824c",
   "metadata": {},
   "source": [
    "Este fragmento de código realiza acciones similares al anterior, pero en este caso se enfoca en la columna \"nombre_parroquia\" del DataFrame delitos_new. \n",
    "\n",
    "Selecciona la columna \"nombre_parroquia\" del DataFrame delitos_new.\n",
    "Utiliza el método unique() para obtener los valores únicos de la columna seleccionada.\n",
    "\n",
    "Crea un nuevo DataFrame llamado parroquias con una sola columna, que contiene los valores únicos de \"nombre_parroquia\".\n",
    "Ordena el DataFrame parroquias por los valores de la columna \"nombre_parroquia\".\n"
   ]
  },
  {
   "cell_type": "code",
   "execution_count": 14,
   "id": "21b01302-8870-4496-bbeb-1928d71e7f95",
   "metadata": {},
   "outputs": [],
   "source": [
    "#Traer la columna de parroquias de la base de datos del ECU911:\n",
    "\n",
    "columna = \"Parroquia\"\n",
    "valores_unicos = dfnew[columna].unique()\n",
    "parroquia_new = pd.DataFrame(valores_unicos, columns = [columna])\n",
    "parroquia_new = parroquia_new.sort_values(by=\"Parroquia\")"
   ]
  },
  {
   "cell_type": "markdown",
   "id": "152fcf41",
   "metadata": {},
   "source": [
    "Este código selecciona la columna \"Parroquia\" del DataFrame w (previamente leído desde el archivo CSV \"dfnew.csv\"), encuentra los valores únicos en esa columna, y luego crea un nuevo DataFrame llamado parroquia_new con una sola columna que contiene los valores únicos de la parroquia. \n",
    "Finalmente, ordena este DataFrame por los valores de la columna \"Parroquia\""
   ]
  },
  {
   "cell_type": "code",
   "execution_count": 15,
   "id": "1cd77c88-4946-476d-8f0d-4ade5b7c7571",
   "metadata": {},
   "outputs": [],
   "source": [
    "#Unir los dos df de las parroquias:\n",
    "\n",
    "\n",
    "comparacion_parroquias = pd.merge(parroquias, parroquia_new, left_on='nombre_parroquia', right_on='Parroquia', how='outer')\n",
    "\n",
    "\n",
    "\n",
    "comparacion_parroquias.to_csv(\"comparacion_parroquias.csv\", index = False, encoding = \"utf-8\")"
   ]
  },
  {
   "cell_type": "markdown",
   "id": "0f45fda0",
   "metadata": {},
   "source": [
    "El codigo dos DataFrames, parroquias y parroquia_new, basándose en la columna \"nombre_parroquia\" de parroquias y en la columna \"Parroquia\" de parroquia_new.\n",
    "\n",
    "El parámetro how='outer' indica que se realizará una unión externa, lo que significa que se conservarán todas las filas de ambos DataFrames, y se llenarán los valores faltantes con NaN en caso de que no haya una coincidencia en la columna de unión.\n",
    "\n",
    "Luego, el resultado se guarda en un archivo CSV llamado \"comparacion_parroquias.csv\" utilizando el método to_csv(), con los parámetros index=False para no incluir el índice y encoding=\"utf-8\" para asegurarse de que el archivo esté codificado en UTF-8.\n",
    "\n",
    "Este archivo .csv permite comparar las parroquias de ambas bases de datos e identificar cuales coinciden."
   ]
  },
  {
   "cell_type": "code",
   "execution_count": 16,
   "id": "a55e41d0-dc78-46c8-9d09-234d80ec9ea7",
   "metadata": {},
   "outputs": [],
   "source": [
    "#Columna de Servicios\n",
    "\n",
    "columna = \"Servicio\"\n",
    "valores_unicos = dfnew[columna].unique()\n",
    "servicio = pd.DataFrame(valores_unicos, columns = [columna])\n",
    "servicio = servicio.sort_values(by=\"Servicio\")\n",
    "\n",
    "servicio.to_csv(\"servicio.csv\", index = False, encoding = \"utf-8\")"
   ]
  },
  {
   "cell_type": "markdown",
   "id": "0542b0e5",
   "metadata": {},
   "source": [
    "Selecciona la columna \"Servicio\" del DataFrame dfnew.\n",
    "\n",
    "Utiliza el método unique() para obtener los valores únicos de la columna seleccionada.\n",
    "\n",
    "Crea un nuevo DataFrame llamado servicio con una sola columna, que contiene los valores únicos de \"Servicio\".\n",
    "Ordena el DataFrame servicio por los valores de la columna `\n"
   ]
  },
  {
   "cell_type": "code",
   "execution_count": 17,
   "id": "22d4fd9d-b3d5-4b67-9ed7-01df33b16312",
   "metadata": {},
   "outputs": [],
   "source": [
    "#Revisar la columna de presunta subinfracción\n",
    "\n",
    "columna = \"presunta_subinfraccion\"\n",
    "valores_unicos = delitos_new[columna].unique()\n",
    "presunta_subinfraccion = pd.DataFrame(valores_unicos, columns = [columna])\n",
    "presunta_subinfraccion = presunta_subinfraccion.sort_values(by=\"presunta_subinfraccion\")\n",
    "\n",
    "presunta_subinfraccion.to_csv(\"presunta_subinfraccion.csv\", index = False, encoding = \"utf-8\")"
   ]
  },
  {
   "cell_type": "markdown",
   "id": "b1eaf55a",
   "metadata": {},
   "source": [
    "Selecciona la columna \"presunta_subinfraccion\" del DataFrame delitos_new.\n",
    "\n",
    "Utiliza el método unique() para obtener los valores únicos de la columna seleccionada.\n",
    "\n",
    "Crea un nuevo DataFrame llamado presunta_subinfraccion con una sola columna, que contiene los valores únicos de \"presunta_subinfraccion\".\n",
    "\n",
    "Ordena el DataFrame presunta_subinfraccion por los valores de la columna \"presunta_subinfraccion\".\n",
    "\n",
    "Guarda el DataFrame ordenado en un archivo CSV llamado \"presunta_subinfraccion.csv\" utilizando el método to_csv(), con los parámetros index=False para no incluir el índice y encoding=\"utf-8\" para asegurarse de que el archivo esté codificado en UTF-8.\n",
    "\n",
    "Este archivo CSV contendrá una lista ordenada de las presuntas subinfracciones presentes en la columna \"presunta_subinfraccion\" del DataFrame delitos_new.\n"
   ]
  },
  {
   "cell_type": "code",
   "execution_count": 18,
   "id": "3a1da42e-23bf-431c-b181-818acacd26f1",
   "metadata": {},
   "outputs": [],
   "source": [
    "#Transformar la base de datos en un archivo .csv:\n",
    "\n",
    "delitos_new.to_csv(\"delitos.csv\", index = False, encoding = \"utf-8\")"
   ]
  },
  {
   "cell_type": "markdown",
   "id": "059d69d8",
   "metadata": {},
   "source": [
    "Este código guardará el DataFrame delitos_new en un archivo CSV llamado \"delitos.csv\" utilizando el método to_csv().\n",
    "\n",
    "El parámetro index=False se utiliza para no incluir el índice del DataFrame en el archivo CSV, y encoding=\"utf-8\" se utiliza para asegurarse de que el archivo esté codificado en UTF-8, lo que es útil para caracteres especiales que puedan estar presentes en los datos.\n",
    "\n",
    "Este archivo CSV contendrá todos los datos del DataFrame delitos_new, lo que te permitirá almacenarlos y compartirlos fácilmente en un formato de archivo ampliamente compatible.\n"
   ]
  },
  {
   "cell_type": "code",
   "execution_count": 19,
   "id": "032f734d-1314-432c-88c5-372f5b83f0bb",
   "metadata": {},
   "outputs": [
    {
     "data": {
      "text/html": [
       "<div>\n",
       "<style scoped>\n",
       "    .dataframe tbody tr th:only-of-type {\n",
       "        vertical-align: middle;\n",
       "    }\n",
       "\n",
       "    .dataframe tbody tr th {\n",
       "        vertical-align: top;\n",
       "    }\n",
       "\n",
       "    .dataframe thead th {\n",
       "        text-align: right;\n",
       "    }\n",
       "</style>\n",
       "<table border=\"1\" class=\"dataframe\">\n",
       "  <thead>\n",
       "    <tr style=\"text-align: right;\">\n",
       "      <th></th>\n",
       "      <th>tipo</th>\n",
       "      <th>fecha_detencion_aprehension</th>\n",
       "      <th>nombre_provincia</th>\n",
       "      <th>nombre_canton</th>\n",
       "      <th>nombre_parroquia</th>\n",
       "      <th>presunta_infraccion</th>\n",
       "      <th>presunta_subinfraccion</th>\n",
       "    </tr>\n",
       "  </thead>\n",
       "  <tbody>\n",
       "    <tr>\n",
       "      <th>0</th>\n",
       "      <td>APREHENDIDO</td>\n",
       "      <td>2024-01-01</td>\n",
       "      <td>BOLIVAR</td>\n",
       "      <td>GUARANDA</td>\n",
       "      <td>GUARANDA</td>\n",
       "      <td>DELITOS CONTRA EL DERECHO A LA INTIMIDAD PERSO...</td>\n",
       "      <td>VIOLACIÓN DE PROPIEDAD PRIVADA</td>\n",
       "    </tr>\n",
       "    <tr>\n",
       "      <th>1</th>\n",
       "      <td>DETENIDO</td>\n",
       "      <td>2024-01-01</td>\n",
       "      <td>NAPO</td>\n",
       "      <td>TENA</td>\n",
       "      <td>TENA</td>\n",
       "      <td>CONTRAVENCIÓN DE VIOLENCIA CONTRA LA MUJER O M...</td>\n",
       "      <td>VIOLENCIA CONTRA LA MUJER O MIEMBROS DEL NÚCLE...</td>\n",
       "    </tr>\n",
       "    <tr>\n",
       "      <th>2</th>\n",
       "      <td>APREHENDIDO</td>\n",
       "      <td>2024-01-01</td>\n",
       "      <td>PICHINCHA</td>\n",
       "      <td>QUITO</td>\n",
       "      <td>QUITO</td>\n",
       "      <td>CONTRAVENCIÓN DE VIOLENCIA CONTRA LA MUJER O M...</td>\n",
       "      <td>VIOLENCIA CONTRA LA MUJER O MIEMBROS DEL NÚCLE...</td>\n",
       "    </tr>\n",
       "    <tr>\n",
       "      <th>3</th>\n",
       "      <td>APREHENDIDO</td>\n",
       "      <td>2024-01-01</td>\n",
       "      <td>PICHINCHA</td>\n",
       "      <td>QUITO</td>\n",
       "      <td>QUITO</td>\n",
       "      <td>DELITOS CONTRA EL DERECHO A LA PROPIEDAD</td>\n",
       "      <td>DAÑO A BIEN AJENO</td>\n",
       "    </tr>\n",
       "    <tr>\n",
       "      <th>4</th>\n",
       "      <td>APREHENDIDO</td>\n",
       "      <td>2024-01-01</td>\n",
       "      <td>AZUAY</td>\n",
       "      <td>CUENCA</td>\n",
       "      <td>CUENCA</td>\n",
       "      <td>CONTRAVENCIÓN DE VIOLENCIA CONTRA LA MUJER O M...</td>\n",
       "      <td>VIOLENCIA CONTRA LA MUJER O MIEMBROS DEL NÚCLE...</td>\n",
       "    </tr>\n",
       "    <tr>\n",
       "      <th>...</th>\n",
       "      <td>...</td>\n",
       "      <td>...</td>\n",
       "      <td>...</td>\n",
       "      <td>...</td>\n",
       "      <td>...</td>\n",
       "      <td>...</td>\n",
       "      <td>...</td>\n",
       "    </tr>\n",
       "    <tr>\n",
       "      <th>18660</th>\n",
       "      <td>APREHENDIDO</td>\n",
       "      <td>2024-03-31</td>\n",
       "      <td>MANABI</td>\n",
       "      <td>MANTA</td>\n",
       "      <td>MANTA</td>\n",
       "      <td>DELITOS CONTRA LA EFICIENCIA DE LA ADMINISTRAC...</td>\n",
       "      <td>INCUMPLIMIENTO DE DECISIONES LEGÍTIMAS DE AUTO...</td>\n",
       "    </tr>\n",
       "    <tr>\n",
       "      <th>18661</th>\n",
       "      <td>APREHENDIDO</td>\n",
       "      <td>2024-03-31</td>\n",
       "      <td>MANABI</td>\n",
       "      <td>MANTA</td>\n",
       "      <td>MANTA</td>\n",
       "      <td>DELITOS CONTRA LA EFICIENCIA DE LA ADMINISTRAC...</td>\n",
       "      <td>INCUMPLIMIENTO DE DECISIONES LEGÍTIMAS DE AUTO...</td>\n",
       "    </tr>\n",
       "    <tr>\n",
       "      <th>18662</th>\n",
       "      <td>APREHENDIDO</td>\n",
       "      <td>2024-03-31</td>\n",
       "      <td>SANTO DOMINGO DE LOS TSACHILAS</td>\n",
       "      <td>SANTO DOMINGO</td>\n",
       "      <td>SANTO DOMINGO DE LOS COLORADOS</td>\n",
       "      <td>DELITOS CONTRA LA EFICIENCIA DE LA ADMINISTRAC...</td>\n",
       "      <td>INCUMPLIMIENTO DE DECISIONES LEGÍTIMAS DE AUTO...</td>\n",
       "    </tr>\n",
       "    <tr>\n",
       "      <th>18663</th>\n",
       "      <td>APREHENDIDO</td>\n",
       "      <td>2024-03-31</td>\n",
       "      <td>LOJA</td>\n",
       "      <td>LOJA</td>\n",
       "      <td>LOJA</td>\n",
       "      <td>CONTRAVENCIÓN DE VIOLENCIA CONTRA LA MUJER O M...</td>\n",
       "      <td>VIOLENCIA CONTRA LA MUJER O MIEMBROS DEL NÚCLE...</td>\n",
       "    </tr>\n",
       "    <tr>\n",
       "      <th>18664</th>\n",
       "      <td>DETENIDO</td>\n",
       "      <td>2024-03-31</td>\n",
       "      <td>TUNGURAHUA</td>\n",
       "      <td>AMBATO</td>\n",
       "      <td>AMBATO</td>\n",
       "      <td>DELITOS CONTRA LA EFICIENCIA DE LA ADMINISTRAC...</td>\n",
       "      <td>INCUMPLIMIENTO DE DECISIONES LEGÍTIMAS DE AUTO...</td>\n",
       "    </tr>\n",
       "  </tbody>\n",
       "</table>\n",
       "<p>18621 rows × 7 columns</p>\n",
       "</div>"
      ],
      "text/plain": [
       "              tipo fecha_detencion_aprehension  \\\n",
       "0      APREHENDIDO                  2024-01-01   \n",
       "1         DETENIDO                  2024-01-01   \n",
       "2      APREHENDIDO                  2024-01-01   \n",
       "3      APREHENDIDO                  2024-01-01   \n",
       "4      APREHENDIDO                  2024-01-01   \n",
       "...            ...                         ...   \n",
       "18660  APREHENDIDO                  2024-03-31   \n",
       "18661  APREHENDIDO                  2024-03-31   \n",
       "18662  APREHENDIDO                  2024-03-31   \n",
       "18663  APREHENDIDO                  2024-03-31   \n",
       "18664     DETENIDO                  2024-03-31   \n",
       "\n",
       "                     nombre_provincia  nombre_canton  \\\n",
       "0                             BOLIVAR       GUARANDA   \n",
       "1                                NAPO           TENA   \n",
       "2                           PICHINCHA          QUITO   \n",
       "3                           PICHINCHA          QUITO   \n",
       "4                               AZUAY         CUENCA   \n",
       "...                               ...            ...   \n",
       "18660                          MANABI          MANTA   \n",
       "18661                          MANABI          MANTA   \n",
       "18662  SANTO DOMINGO DE LOS TSACHILAS  SANTO DOMINGO   \n",
       "18663                            LOJA           LOJA   \n",
       "18664                      TUNGURAHUA         AMBATO   \n",
       "\n",
       "                     nombre_parroquia  \\\n",
       "0                            GUARANDA   \n",
       "1                                TENA   \n",
       "2                               QUITO   \n",
       "3                               QUITO   \n",
       "4                              CUENCA   \n",
       "...                               ...   \n",
       "18660                           MANTA   \n",
       "18661                           MANTA   \n",
       "18662  SANTO DOMINGO DE LOS COLORADOS   \n",
       "18663                            LOJA   \n",
       "18664                          AMBATO   \n",
       "\n",
       "                                     presunta_infraccion  \\\n",
       "0      DELITOS CONTRA EL DERECHO A LA INTIMIDAD PERSO...   \n",
       "1      CONTRAVENCIÓN DE VIOLENCIA CONTRA LA MUJER O M...   \n",
       "2      CONTRAVENCIÓN DE VIOLENCIA CONTRA LA MUJER O M...   \n",
       "3               DELITOS CONTRA EL DERECHO A LA PROPIEDAD   \n",
       "4      CONTRAVENCIÓN DE VIOLENCIA CONTRA LA MUJER O M...   \n",
       "...                                                  ...   \n",
       "18660  DELITOS CONTRA LA EFICIENCIA DE LA ADMINISTRAC...   \n",
       "18661  DELITOS CONTRA LA EFICIENCIA DE LA ADMINISTRAC...   \n",
       "18662  DELITOS CONTRA LA EFICIENCIA DE LA ADMINISTRAC...   \n",
       "18663  CONTRAVENCIÓN DE VIOLENCIA CONTRA LA MUJER O M...   \n",
       "18664  DELITOS CONTRA LA EFICIENCIA DE LA ADMINISTRAC...   \n",
       "\n",
       "                                  presunta_subinfraccion  \n",
       "0                         VIOLACIÓN DE PROPIEDAD PRIVADA  \n",
       "1      VIOLENCIA CONTRA LA MUJER O MIEMBROS DEL NÚCLE...  \n",
       "2      VIOLENCIA CONTRA LA MUJER O MIEMBROS DEL NÚCLE...  \n",
       "3                                      DAÑO A BIEN AJENO  \n",
       "4      VIOLENCIA CONTRA LA MUJER O MIEMBROS DEL NÚCLE...  \n",
       "...                                                  ...  \n",
       "18660  INCUMPLIMIENTO DE DECISIONES LEGÍTIMAS DE AUTO...  \n",
       "18661  INCUMPLIMIENTO DE DECISIONES LEGÍTIMAS DE AUTO...  \n",
       "18662  INCUMPLIMIENTO DE DECISIONES LEGÍTIMAS DE AUTO...  \n",
       "18663  VIOLENCIA CONTRA LA MUJER O MIEMBROS DEL NÚCLE...  \n",
       "18664  INCUMPLIMIENTO DE DECISIONES LEGÍTIMAS DE AUTO...  \n",
       "\n",
       "[18621 rows x 7 columns]"
      ]
     },
     "execution_count": 19,
     "metadata": {},
     "output_type": "execute_result"
    }
   ],
   "source": [
    "delitos_new"
   ]
  },
  {
   "cell_type": "code",
   "execution_count": null,
   "id": "231946c4-6c1e-4f6a-9694-0b8a4327f522",
   "metadata": {},
   "outputs": [],
   "source": []
  }
 ],
 "metadata": {
  "kernelspec": {
   "display_name": "Python 3 (ipykernel)",
   "language": "python",
   "name": "python3"
  },
  "language_info": {
   "codemirror_mode": {
    "name": "ipython",
    "version": 3
   },
   "file_extension": ".py",
   "mimetype": "text/x-python",
   "name": "python",
   "nbconvert_exporter": "python",
   "pygments_lexer": "ipython3",
   "version": "3.11.8"
  }
 },
 "nbformat": 4,
 "nbformat_minor": 5
}
